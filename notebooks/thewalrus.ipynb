{
 "cells": [
  {
   "cell_type": "code",
   "execution_count": 8,
   "id": "97dc53d1-ab11-469b-aa62-9b58d1c824cd",
   "metadata": {},
   "outputs": [
    {
     "name": "stdout",
     "output_type": "stream",
     "text": [
      "\n",
      "               ___\n",
      "            .-9 9 `\\\n",
      "          =(:(::)=  ;\n",
      "            ||||     \\\n",
      "            ||||      `-.\n",
      "           ,\\|\\|         `,\n",
      "          /                \\\n",
      "         ;                  `'---.,\n",
      "         |                         `\\\n",
      "         ;                     /     |\n",
      "         \\                    |      /\n",
      "  jgs     )           \\  __,.--\\    /\n",
      "       .-' \\,..._\\     \\`   .-'  .-'\n",
      "      `-=``      `:    |   /-/-/`\n",
      "                   `.__/\n",
      "\n"
     ]
    }
   ],
   "source": [
    "def the_walrus():\n",
    "\treturn r\"\"\"\n",
    "               ___\n",
    "            .-9 9 `\\\n",
    "          =(:(::)=  ;\n",
    "            ||||     \\\n",
    "            ||||      `-.\n",
    "           ,\\|\\|         `,\n",
    "          /                \\\n",
    "         ;                  `'---.,\n",
    "         |                         `\\\n",
    "         ;                     /     |\n",
    "         \\                    |      /\n",
    "  jgs     )           \\  __,.--\\    /\n",
    "       .-' \\,..._\\     \\`   .-'  .-'\n",
    "      `-=``      `:    |   /-/-/`\n",
    "                   `.__/\n",
    "\"\"\"\n",
    "\n",
    "print(the_walrus())"
   ]
  },
  {
   "cell_type": "code",
   "execution_count": 29,
   "id": "da5cdcfd",
   "metadata": {},
   "outputs": [],
   "source": [
    "def check_length_of_n_old_way(n: list[int]) -> bool:\n",
    "\tcheck = len(n)\n",
    "\tif check > 2:\n",
    "\t\tLOG.error(f\"N is too long: {check} \")\n",
    "\t\treturn False\n",
    "\treturn True\n",
    "\n",
    "\n",
    "# Assign during if\n",
    "def check_length_of_n(n: list[int]) -> bool:\n",
    "\tif (check := len(n)) > 2:\n",
    "\t\tLOG.error(f\"N is too long: {check} \")\n",
    "\t\treturn False\n",
    "\treturn True\n"
   ]
  },
  {
   "cell_type": "code",
   "execution_count": 26,
   "id": "580213cf",
   "metadata": {},
   "outputs": [],
   "source": [
    "\n",
    "# This is honestly a terrible way to do this but...\n",
    "def grow_without_walrus():\n",
    "    values = [1,2,3,4,5]\n",
    "    total = 0\n",
    "    totals = []\n",
    "    for value in values:\n",
    "        total += value\n",
    "        totals.append(total)\n",
    "\n",
    "    return totals\n",
    "\n",
    "assert grow_without_walrus() == [1,3,6,10,15]\n",
    "    \n",
    "\n",
    "# Accumulate\n",
    "def grow():\n",
    "\tvalues = [1,2,3,4,5]\n",
    "\ttotal = 0\n",
    "\treturn [total := total + value for value in values]\n",
    "\n",
    "assert grow() == [1,3,6,10,15]"
   ]
  },
  {
   "cell_type": "code",
   "execution_count": 27,
   "id": "5424809e",
   "metadata": {},
   "outputs": [],
   "source": [
    "# Only check once\n",
    "\n",
    "def the_way_you_have_always_done_it(data: list[dict]):\n",
    "\treturn [d.get(\"a\") for d in data if d.get(\"a\")]\n",
    "\n",
    "def the_walrus_way(data: list[dict]):\n",
    "\treturn [x for d in data if (x := d.get(\"a\"))]\n",
    "\n",
    "\n",
    "some_data = [{\"a\": 10}, {\"b\": 10}, {\"c\": 10}, {\"a\": 10, \"d\": 10}]\n",
    "\n",
    "assert [10, 10] == the_way_you_have_always_done_it(some_data)\n",
    "\n",
    "assert [10, 10] == the_walrus_way(some_data)\n"
   ]
  },
  {
   "cell_type": "code",
   "execution_count": 28,
   "id": "151d303c",
   "metadata": {},
   "outputs": [
    {
     "name": "stdout",
     "output_type": "stream",
     "text": [
      "[ContactInfo(first_name='Dave',\n",
      "             middle_name='AlsoDave',\n",
      "             last_name='MoreDave',\n",
      "             full_name='Dave AlsoDave MoreDave',\n",
      "             address='Daveville'),\n",
      " ContactInfo(first_name='Mike',\n",
      "             middle_name='NotDave',\n",
      "             last_name='MaybeDave',\n",
      "             full_name='Mike NotDave MaybeDave',\n",
      "             address='NotDaveVille'),\n",
      " ContactInfo(first_name='Charlotte',\n",
      "             middle_name='',\n",
      "             last_name='TheFinalName',\n",
      "             full_name='Charlotte TheFinalName',\n",
      "             address='')]\n"
     ]
    }
   ],
   "source": [
    "from dataclasses import dataclass\n",
    "from pprint import pprint\n",
    "\n",
    "@dataclass\n",
    "class ContactInfo:\n",
    "    first_name: str\n",
    "    middle_name: str\n",
    "    last_name: str\n",
    "    full_name: str\n",
    "    address: str\n",
    "\n",
    "\n",
    "def address_book(list_of_users: list[dict]) -> list[ContactInfo]:\n",
    "    return [\n",
    "        ContactInfo(\n",
    "            first_name=(f_name := user.get(\"fname\", \"\")),\n",
    "            last_name=(l_name := user.get(\"lname\", \"\")),\n",
    "            middle_name=(m_name := user.get(\"mname\", \"\")),\n",
    "            full_name=\" \".join([name_segment for name_segment in [f_name, m_name, l_name] if name_segment]),\n",
    "            address=user.get(\"address\", \"\"),\n",
    "        )\n",
    "        for user in list_of_users\n",
    "    ]\n",
    "\n",
    "\n",
    "list_of_users = [\n",
    "    {\"fname\": \"Dave\", \"mname\": \"AlsoDave\", \"lname\": \"MoreDave\", \"address\": \"Daveville\"},\n",
    "    {\"fname\": \"Mike\", \"mname\": \"NotDave\", \"lname\": \"MaybeDave\", \"address\": \"AlmostDaveVille\"},\n",
    "    {\"fname\": \"Charlotte\", \"lname\": \"TheFinalName\"},\n",
    "]\n",
    "\n",
    "pprint(address_book(list_of_users))"
   ]
  }
 ],
 "metadata": {
  "kernelspec": {
   "display_name": "Python 3 (ipykernel)",
   "language": "python",
   "name": "python3"
  },
  "language_info": {
   "codemirror_mode": {
    "name": "ipython",
    "version": 3
   },
   "file_extension": ".py",
   "mimetype": "text/x-python",
   "name": "python",
   "nbconvert_exporter": "python",
   "pygments_lexer": "ipython3",
   "version": "3.12.3"
  }
 },
 "nbformat": 4,
 "nbformat_minor": 5
}
