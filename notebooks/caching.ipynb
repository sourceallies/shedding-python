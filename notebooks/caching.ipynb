{
 "cells": [
  {
   "cell_type": "markdown",
   "id": "b9cfac26-f699-4be6-8e6c-5fdad7be3c23",
   "metadata": {},
   "source": [
    "Cache But No Money"
   ]
  },
  {
   "cell_type": "code",
   "execution_count": null,
   "id": "e8519f76",
   "metadata": {},
   "outputs": [],
   "source": [
    "import time\n",
    "from functools import lru_cache, cache\n",
    "\n",
    "@cache\n",
    "def build_data():\n",
    "\treturn [{\"a\": choice([None, i]), \"b\": choice([None, i]), \"c\": choice([None, i])} for i in range(100000000)]"
   ]
  },
  {
   "cell_type": "code",
   "execution_count": null,
   "id": "1b360479-ab03-41ed-b05e-70cc57b4a868",
   "metadata": {},
   "outputs": [],
   "source": [
    "\n",
    "\n",
    "def uncached_fib():\n",
    "    return None\n",
    "\n",
    "@cache\n",
    "def cached_fib():\n",
    "    return None\n",
    "\n",
    "@lru_cache\n",
    "def lru_cached_fib():\n",
    "    return None"
   ]
  }
 ],
 "metadata": {
  "kernelspec": {
   "display_name": "Python 3 (ipykernel)",
   "language": "python",
   "name": "python3"
  },
  "language_info": {
   "codemirror_mode": {
    "name": "ipython",
    "version": 3
   },
   "file_extension": ".py",
   "mimetype": "text/x-python",
   "name": "python",
   "nbconvert_exporter": "python",
   "pygments_lexer": "ipython3",
   "version": "3.12.3"
  }
 },
 "nbformat": 4,
 "nbformat_minor": 5
}
