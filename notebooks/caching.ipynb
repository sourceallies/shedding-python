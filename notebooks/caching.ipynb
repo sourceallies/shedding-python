{
 "cells": [
  {
   "cell_type": "markdown",
   "id": "b9cfac26-f699-4be6-8e6c-5fdad7be3c23",
   "metadata": {},
   "source": [
    "Cache But No Money"
   ]
  },
  {
   "cell_type": "code",
   "execution_count": 2,
   "id": "e8519f76",
   "metadata": {},
   "outputs": [
    {
     "ename": "AttributeError",
     "evalue": "module 'datetime' has no attribute 'now'",
     "output_type": "error",
     "traceback": [
      "\u001b[0;31m---------------------------------------------------------------------------\u001b[0m",
      "\u001b[0;31mAttributeError\u001b[0m                            Traceback (most recent call last)",
      "Cell \u001b[0;32mIn[2], line 16\u001b[0m\n\u001b[1;32m     13\u001b[0m     \u001b[38;5;28mprint\u001b[39m(end \u001b[38;5;241m-\u001b[39m start)\n\u001b[1;32m     14\u001b[0m     \u001b[38;5;28;01mreturn\u001b[39;00m data\n\u001b[0;32m---> 16\u001b[0m \u001b[43mbuild_data\u001b[49m\u001b[43m(\u001b[49m\u001b[43m)\u001b[49m\n\u001b[1;32m     17\u001b[0m build_data()\n",
      "Cell \u001b[0;32mIn[2], line 10\u001b[0m, in \u001b[0;36mbuild_data\u001b[0;34m()\u001b[0m\n\u001b[1;32m      9\u001b[0m \u001b[38;5;28;01mdef\u001b[39;00m \u001b[38;5;21mbuild_data\u001b[39m():\n\u001b[0;32m---> 10\u001b[0m     start \u001b[38;5;241m=\u001b[39m \u001b[43mdatetime\u001b[49m\u001b[38;5;241;43m.\u001b[39;49m\u001b[43mnow\u001b[49m()\n\u001b[1;32m     11\u001b[0m     data \u001b[38;5;241m=\u001b[39m data_builder()\n\u001b[1;32m     12\u001b[0m     end \u001b[38;5;241m=\u001b[39m datetime\u001b[38;5;241m.\u001b[39mnow()\n",
      "\u001b[0;31mAttributeError\u001b[0m: module 'datetime' has no attribute 'now'"
     ]
    }
   ],
   "source": [
    "import datetime\n",
    "from random import choice\n",
    "from functools import cache\n",
    "\n",
    "@cache\n",
    "def data_builder():\n",
    "\treturn [{\"a\": choice([None, i]), \"b\": choice([None, i]), \"c\": choice([None, i])} for i in range(100000000)]\n",
    "\n",
    "def build_data():\n",
    "    start = datetime.datetime.now()\n",
    "    data = data_builder()\n",
    "    end = datetime.datetime.now()\n",
    "    print(end - start)\n",
    "    return data\n",
    "\n",
    "build_data()\n",
    "build_data()"
   ]
  },
  {
   "cell_type": "code",
   "execution_count": null,
   "id": "1b360479-ab03-41ed-b05e-70cc57b4a868",
   "metadata": {},
   "outputs": [],
   "source": [
    "\n",
    "\n",
    "def uncached_fib():\n",
    "\n",
    "    return None\n",
    "\n",
    "@cache\n",
    "def cached_fib():\n",
    "    return None\n",
    "\n",
    "@lru_cache\n",
    "def lru_cached_fib():\n",
    "    return None\n",
    "\n",
    "def generated_fib():\n",
    "    a = 0\n",
    "    b = 1\n",
    "    while True:\n",
    "        yield a\n",
    "        a, b = b, a + b"
   ]
  }
 ],
 "metadata": {
  "kernelspec": {
   "display_name": "Python 3 (ipykernel)",
   "language": "python",
   "name": "python3"
  },
  "language_info": {
   "codemirror_mode": {
    "name": "ipython",
    "version": 3
   },
   "file_extension": ".py",
   "mimetype": "text/x-python",
   "name": "python",
   "nbconvert_exporter": "python",
   "pygments_lexer": "ipython3",
   "version": "3.12.3"
  }
 },
 "nbformat": 4,
 "nbformat_minor": 5
}
